{
 "cells": [
  {
   "cell_type": "markdown",
   "id": "a6565c0f",
   "metadata": {},
   "source": [
    "* BMI is a measure of relative weight based on an individual’s mass and height. Today, Body Mass Index is commonly used to classify people as underweight, overweight, and even with obesity. Also, it is adopted by countries to promote healthy eating."
   ]
  },
  {
   "cell_type": "code",
   "execution_count": 1,
   "id": "09551b0e",
   "metadata": {},
   "outputs": [
    {
     "name": "stdout",
     "output_type": "stream",
     "text": [
      "Enter your height in centimeters: 170\n",
      "Enter your Weight in Kg: 69\n",
      "your Body Mass Index is:  23.87543252595156\n",
      "you are Healthy\n"
     ]
    }
   ],
   "source": [
    "Height=float(input(\"Enter your height in centimeters: \"))\n",
    "\n",
    "Weight=float(input(\"Enter your Weight in Kg: \"))\n",
    "\n",
    "Height = Height/100\n",
    "\n",
    "BMI=Weight/(Height*Height)\n",
    "print(\"your Body Mass Index is: \",BMI)\n",
    "\n",
    "if(BMI>0):\n",
    "    if(BMI<=16):\n",
    "        print(\"you are severely underweight\")\n",
    "    elif(BMI<=18.5):\n",
    "        print(\"you are underweight\")\n",
    "    elif(BMI<=25):\n",
    "        print(\"you are Healthy\")\n",
    "    elif(BMI<=30):\n",
    "        print(\"you are overweight\")\n",
    "    else: print(\"you are severely overweight\")\n",
    "else:(\"enter valid details\")"
   ]
  },
  {
   "cell_type": "code",
   "execution_count": null,
   "id": "ee7e165c",
   "metadata": {},
   "outputs": [],
   "source": []
  }
 ],
 "metadata": {
  "kernelspec": {
   "display_name": "Python 3 (ipykernel)",
   "language": "python",
   "name": "python3"
  },
  "language_info": {
   "codemirror_mode": {
    "name": "ipython",
    "version": 3
   },
   "file_extension": ".py",
   "mimetype": "text/x-python",
   "name": "python",
   "nbconvert_exporter": "python",
   "pygments_lexer": "ipython3",
   "version": "3.11.5"
  }
 },
 "nbformat": 4,
 "nbformat_minor": 5
}
